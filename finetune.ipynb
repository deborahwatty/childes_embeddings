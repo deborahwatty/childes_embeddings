{
 "cells": [
  {
   "cell_type": "code",
   "id": "initial_id",
   "metadata": {
    "collapsed": true,
    "ExecuteTime": {
     "end_time": "2025-08-07T05:24:46.137573Z",
     "start_time": "2025-08-07T05:24:42.051239Z"
    }
   },
   "source": [
    "from transformers import BertTokenizer\n",
    "from process_childes import *\n",
    "from sklearn.model_selection import train_test_split\n",
    "import random\n",
    "import pprint\n",
    "from transformers import BertTokenizer, BertForMaskedLM, DataCollatorForLanguageModeling, Trainer, TrainingArguments\n",
    "from datasets import Dataset\n",
    "import torch"
   ],
   "outputs": [],
   "execution_count": 1
  },
  {
   "metadata": {
    "ExecuteTime": {
     "end_time": "2025-08-05T15:16:14.478112Z",
     "start_time": "2025-08-05T15:16:11.324656Z"
    }
   },
   "cell_type": "code",
   "source": [
    "tokenizer = BertTokenizer.from_pretrained(\"ckiplab/bert-base-chinese\")\n",
    "data = clean_chinese_utterances_simple(extract_utterances_by_age_and_adult_folder(\"Mandarin\"))"
   ],
   "id": "ebcdc7b7a21e3a8d",
   "outputs": [],
   "execution_count": 16
  },
  {
   "metadata": {
    "ExecuteTime": {
     "end_time": "2025-08-05T15:16:14.568956Z",
     "start_time": "2025-08-05T15:16:14.488517Z"
    }
   },
   "cell_type": "code",
   "source": [
    "\n",
    "# Ages as integers\n",
    "target_ages = [2, 3, 4, 5, 6]\n",
    "\n",
    "# Select data for ages 2-6 and adults\n",
    "selected_data = {age: data[\"child\"].get(age, []) for age in target_ages}\n",
    "selected_data[\"adult\"] = data[\"adult\"]\n",
    "\n",
    "# Calculate sizes of each group\n",
    "group_sizes = {group: len(utterances) for group, utterances in selected_data.items()}\n",
    "\n",
    "# Find the smallest group size for balanced sampling\n",
    "n_min = min(group_sizes.values())\n",
    "\n",
    "# Pretty-print sizes and explanation\n",
    "print(f\"The smallest group size (n_min) among ages 2-6 and adults is: {n_min}\\n\")\n",
    "print(\"Number of utterances per group (before sampling):\")\n",
    "pprint.pprint(group_sizes)\n",
    "print(\"\\nWe will sample\", n_min,\n",
    "      \"utterances from each group to balance the dataset for fine-tuning.\")\n",
    "print(\"Then split each sampled group’s data into 80% train and 20% test.\\n\")\n",
    "\n",
    "# Create balanced train/test splits\n",
    "train_data = {}\n",
    "test_data = {}\n",
    "\n",
    "for group, utterances in selected_data.items():\n",
    "    sampled = random.sample(utterances, n_min)\n",
    "    train, test = train_test_split(sampled, test_size=0.2, random_state=42)\n",
    "    train_data[group] = train\n",
    "    test_data[group] = test\n",
    "\n",
    "# Example: print train/test sizes per group\n",
    "print(\"Train/test sizes per group after split:\")\n",
    "for group in train_data:\n",
    "    print(f\"  {group}: train={len(train_data[group])}, test={len(test_data[group])}\")"
   ],
   "id": "11131e979a377e2a",
   "outputs": [
    {
     "name": "stdout",
     "output_type": "stream",
     "text": [
      "The smallest group size (n_min) among ages 2-6 and adults is: 26872\n",
      "\n",
      "Number of utterances per group (before sampling):\n",
      "{2: 26872, 3: 45354, 4: 43809, 5: 53568, 6: 29654, 'adult': 348970}\n",
      "\n",
      "We will sample 26872 utterances from each group to balance the dataset for fine-tuning.\n",
      "Then split each sampled group’s data into 80% train and 20% test.\n",
      "\n",
      "Train/test sizes per group after split:\n",
      "  2: train=21497, test=5375\n",
      "  3: train=21497, test=5375\n",
      "  4: train=21497, test=5375\n",
      "  5: train=21497, test=5375\n",
      "  6: train=21497, test=5375\n",
      "  adult: train=21497, test=5375\n"
     ]
    }
   ],
   "execution_count": 17
  },
  {
   "metadata": {
    "ExecuteTime": {
     "end_time": "2025-08-05T15:18:32.771150Z",
     "start_time": "2025-08-05T15:18:32.706823Z"
    }
   },
   "cell_type": "code",
   "source": [
    "import json\n",
    "\n",
    "data_to_save = {\n",
    "    \"train\": train_data,\n",
    "    \"test\": test_data\n",
    "}\n",
    "\n",
    "with open(\"balanced_train_test_data.json\", \"w\", encoding=\"utf-8\") as f:\n",
    "    json.dump(data_to_save, f, ensure_ascii=False, indent=2)\n"
   ],
   "id": "f76e342037169db9",
   "outputs": [],
   "execution_count": 18
  },
  {
   "metadata": {
    "ExecuteTime": {
     "end_time": "2025-08-07T05:33:51.255437Z",
     "start_time": "2025-08-07T05:33:51.222547Z"
    }
   },
   "cell_type": "code",
   "source": [
    "import json\n",
    "\n",
    "# Load JSON\n",
    "with open(\"balanced_train_test_data.json\", \"r\", encoding=\"utf-8\") as f:\n",
    "    data = json.load(f)\n",
    "\n",
    "# Access train/test splits\n",
    "train_data_loaded = data[\"train\"]\n",
    "test_data_loaded = data[\"test\"]\n",
    "\n",
    "# Example: print number of utterances for age 2 in train and test\n",
    "print(\"Age 2 train utterances:\", len(train_data_loaded[\"2\"]))\n",
    "print(\"Age 2 test utterances:\", len(test_data_loaded[\"2\"]))\n",
    "\n",
    "# Access actual utterances, e.g. first train utterance for adults\n",
    "print(\"First adult train utterance:\", train_data_loaded[\"adult\"][0])\n"
   ],
   "id": "8e448c0e6ec8785b",
   "outputs": [
    {
     "name": "stdout",
     "output_type": "stream",
     "text": [
      "Age 2 train utterances: 21497\n",
      "Age 2 test utterances: 5375\n",
      "First adult train utterance: 還 這麼 大力 用 我\n"
     ]
    }
   ],
   "execution_count": 10
  },
  {
   "metadata": {
    "ExecuteTime": {
     "end_time": "2025-08-05T15:19:22.702650Z",
     "start_time": "2025-08-05T15:19:21.352070Z"
    }
   },
   "cell_type": "code",
   "source": [
    "# 1. Load tokenizer and model\n",
    "tokenizer = BertTokenizer.from_pretrained(\"ckiplab/bert-base-chinese\")\n",
    "model = BertForMaskedLM.from_pretrained(\"ckiplab/bert-base-chinese\")\n",
    "\n",
    "def finetune_on_group(age, train_data, test_data):\n",
    "    print(f\"Starting fine-tuning for group: {age}\")\n",
    "\n",
    "    # 1. Load tokenizer and base model\n",
    "    tokenizer = BertTokenizer.from_pretrained(\"ckiplab/bert-base-chinese\")\n",
    "    model = BertForMaskedLM.from_pretrained(\"ckiplab/bert-base-chinese\")\n",
    "\n",
    "    # 2. Select group-specific texts\n",
    "    train_texts = train_data[age]\n",
    "    test_texts = test_data[age]\n",
    "\n",
    "    # 3. Tokenize\n",
    "    def tokenize_function(examples):\n",
    "        return tokenizer(examples[\"text\"], padding=\"max_length\", truncation=True, max_length=128)\n",
    "\n",
    "    train_dataset = Dataset.from_dict({\"text\": train_texts})\n",
    "    test_dataset = Dataset.from_dict({\"text\": test_texts})\n",
    "    train_dataset = train_dataset.map(tokenize_function, batched=True)\n",
    "    test_dataset = test_dataset.map(tokenize_function, batched=True)\n",
    "    train_dataset = train_dataset.remove_columns([\"text\"])\n",
    "    test_dataset = test_dataset.remove_columns([\"text\"])\n",
    "    train_dataset.set_format(\"torch\")\n",
    "    test_dataset.set_format(\"torch\")\n",
    "\n",
    "    # 4. Data collator for MLM\n",
    "    data_collator = DataCollatorForLanguageModeling(\n",
    "        tokenizer=tokenizer, mlm=True, mlm_probability=0.15\n",
    "    )\n",
    "\n",
    "    # 5. Training args\n",
    "    training_args = TrainingArguments(\n",
    "        output_dir=f\"./bert-finetuned-childes-{age}\",\n",
    "        overwrite_output_dir=True,\n",
    "        num_train_epochs=2,\n",
    "        per_device_train_batch_size=4,\n",
    "        per_device_eval_batch_size=4,\n",
    "        save_strategy=\"epoch\",\n",
    "        logging_dir=f\"./logs-{age}\",\n",
    "        logging_steps=2000,\n",
    "        learning_rate=5e-5,\n",
    "        weight_decay=0.01,\n",
    "        save_total_limit=1,\n",
    "        seed=42,\n",
    "        report_to=None,\n",
    "    )\n",
    "\n",
    "    # 6. Trainer\n",
    "    trainer = Trainer(\n",
    "        model=model,\n",
    "        args=training_args,\n",
    "        train_dataset=train_dataset,\n",
    "        eval_dataset=test_dataset,\n",
    "        data_collator=data_collator,\n",
    "    )\n",
    "\n",
    "    # 7. Train\n",
    "    trainer.train()\n",
    "    trainer.save_model()\n",
    "    tokenizer.save_pretrained(training_args.output_dir)\n",
    "    print(f\"Finished fine-tuning for group: {age}\")"
   ],
   "id": "68bfab27afd2a8b6",
   "outputs": [],
   "execution_count": 20
  },
  {
   "metadata": {
    "ExecuteTime": {
     "end_time": "2025-08-05T17:14:26.773739Z",
     "start_time": "2025-08-05T16:19:19.541868Z"
    }
   },
   "cell_type": "code",
   "source": [
    "finetune_on_group(3, train_data, test_data)"
   ],
   "id": "d1553bced4bad2aa",
   "outputs": [
    {
     "name": "stdout",
     "output_type": "stream",
     "text": [
      "Starting fine-tuning for group: 3\n"
     ]
    },
    {
     "data": {
      "text/plain": [
       "Map:   0%|          | 0/21497 [00:00<?, ? examples/s]"
      ],
      "application/vnd.jupyter.widget-view+json": {
       "version_major": 2,
       "version_minor": 0,
       "model_id": "0cfd6c0a933849c8a032064b2ff88f61"
      }
     },
     "metadata": {},
     "output_type": "display_data"
    },
    {
     "data": {
      "text/plain": [
       "Map:   0%|          | 0/5375 [00:00<?, ? examples/s]"
      ],
      "application/vnd.jupyter.widget-view+json": {
       "version_major": 2,
       "version_minor": 0,
       "model_id": "e8ae931ac7f045028519fdaa3ec6902a"
      }
     },
     "metadata": {},
     "output_type": "display_data"
    },
    {
     "name": "stderr",
     "output_type": "stream",
     "text": [
      "/Users/Work/PycharmProjects/embeddings/.venv/lib/python3.10/site-packages/torch/utils/data/dataloader.py:683: UserWarning: 'pin_memory' argument is set as true but not supported on MPS now, then device pinned memory won't be used.\n",
      "  warnings.warn(warn_msg)\n",
      "/Users/Work/PycharmProjects/embeddings/.venv/lib/python3.10/site-packages/torch/nn/modules/module.py:1762: FutureWarning: `encoder_attention_mask` is deprecated and will be removed in version 4.55.0 for `BertSdpaSelfAttention.forward`.\n",
      "  return forward_call(*args, **kwargs)\n"
     ]
    },
    {
     "data": {
      "text/plain": [
       "<IPython.core.display.HTML object>"
      ],
      "text/html": [
       "\n",
       "    <div>\n",
       "      \n",
       "      <progress value='10750' max='10750' style='width:300px; height:20px; vertical-align: middle;'></progress>\n",
       "      [10750/10750 55:02, Epoch 2/2]\n",
       "    </div>\n",
       "    <table border=\"1\" class=\"dataframe\">\n",
       "  <thead>\n",
       " <tr style=\"text-align: left;\">\n",
       "      <th>Step</th>\n",
       "      <th>Training Loss</th>\n",
       "    </tr>\n",
       "  </thead>\n",
       "  <tbody>\n",
       "    <tr>\n",
       "      <td>2000</td>\n",
       "      <td>3.274900</td>\n",
       "    </tr>\n",
       "    <tr>\n",
       "      <td>4000</td>\n",
       "      <td>3.063600</td>\n",
       "    </tr>\n",
       "    <tr>\n",
       "      <td>6000</td>\n",
       "      <td>2.757100</td>\n",
       "    </tr>\n",
       "    <tr>\n",
       "      <td>8000</td>\n",
       "      <td>2.566600</td>\n",
       "    </tr>\n",
       "    <tr>\n",
       "      <td>10000</td>\n",
       "      <td>2.351200</td>\n",
       "    </tr>\n",
       "  </tbody>\n",
       "</table><p>"
      ]
     },
     "metadata": {},
     "output_type": "display_data"
    },
    {
     "name": "stderr",
     "output_type": "stream",
     "text": [
      "/Users/Work/PycharmProjects/embeddings/.venv/lib/python3.10/site-packages/torch/utils/data/dataloader.py:683: UserWarning: 'pin_memory' argument is set as true but not supported on MPS now, then device pinned memory won't be used.\n",
      "  warnings.warn(warn_msg)\n",
      "/Users/Work/PycharmProjects/embeddings/.venv/lib/python3.10/site-packages/torch/nn/modules/module.py:1762: FutureWarning: `encoder_attention_mask` is deprecated and will be removed in version 4.55.0 for `BertSdpaSelfAttention.forward`.\n",
      "  return forward_call(*args, **kwargs)\n"
     ]
    },
    {
     "name": "stdout",
     "output_type": "stream",
     "text": [
      "Finished fine-tuning for group: 3\n"
     ]
    }
   ],
   "execution_count": 28
  },
  {
   "metadata": {
    "ExecuteTime": {
     "end_time": "2025-08-05T20:52:18.457235Z",
     "start_time": "2025-08-05T17:14:26.813098Z"
    }
   },
   "cell_type": "code",
   "source": [
    "finetune_on_group(4, train_data, test_data)\n",
    "finetune_on_group(5, train_data, test_data)\n",
    "finetune_on_group(6, train_data, test_data)\n",
    "finetune_on_group('adult', train_data, test_data)"
   ],
   "id": "add8437396232ee4",
   "outputs": [
    {
     "name": "stdout",
     "output_type": "stream",
     "text": [
      "Starting fine-tuning for group: 4\n"
     ]
    },
    {
     "data": {
      "text/plain": [
       "Map:   0%|          | 0/21497 [00:00<?, ? examples/s]"
      ],
      "application/vnd.jupyter.widget-view+json": {
       "version_major": 2,
       "version_minor": 0,
       "model_id": "653820f6c10c4009ad163c401d168a56"
      }
     },
     "metadata": {},
     "output_type": "display_data"
    },
    {
     "data": {
      "text/plain": [
       "Map:   0%|          | 0/5375 [00:00<?, ? examples/s]"
      ],
      "application/vnd.jupyter.widget-view+json": {
       "version_major": 2,
       "version_minor": 0,
       "model_id": "fff4e9f8a5154b08a772b47e8efd5250"
      }
     },
     "metadata": {},
     "output_type": "display_data"
    },
    {
     "name": "stderr",
     "output_type": "stream",
     "text": [
      "/Users/Work/PycharmProjects/embeddings/.venv/lib/python3.10/site-packages/torch/utils/data/dataloader.py:683: UserWarning: 'pin_memory' argument is set as true but not supported on MPS now, then device pinned memory won't be used.\n",
      "  warnings.warn(warn_msg)\n",
      "/Users/Work/PycharmProjects/embeddings/.venv/lib/python3.10/site-packages/torch/nn/modules/module.py:1762: FutureWarning: `encoder_attention_mask` is deprecated and will be removed in version 4.55.0 for `BertSdpaSelfAttention.forward`.\n",
      "  return forward_call(*args, **kwargs)\n"
     ]
    },
    {
     "data": {
      "text/plain": [
       "<IPython.core.display.HTML object>"
      ],
      "text/html": [
       "\n",
       "    <div>\n",
       "      \n",
       "      <progress value='10750' max='10750' style='width:300px; height:20px; vertical-align: middle;'></progress>\n",
       "      [10750/10750 54:34, Epoch 2/2]\n",
       "    </div>\n",
       "    <table border=\"1\" class=\"dataframe\">\n",
       "  <thead>\n",
       " <tr style=\"text-align: left;\">\n",
       "      <th>Step</th>\n",
       "      <th>Training Loss</th>\n",
       "    </tr>\n",
       "  </thead>\n",
       "  <tbody>\n",
       "    <tr>\n",
       "      <td>2000</td>\n",
       "      <td>3.117800</td>\n",
       "    </tr>\n",
       "    <tr>\n",
       "      <td>4000</td>\n",
       "      <td>2.742300</td>\n",
       "    </tr>\n",
       "    <tr>\n",
       "      <td>6000</td>\n",
       "      <td>2.542700</td>\n",
       "    </tr>\n",
       "    <tr>\n",
       "      <td>8000</td>\n",
       "      <td>2.385000</td>\n",
       "    </tr>\n",
       "    <tr>\n",
       "      <td>10000</td>\n",
       "      <td>2.251600</td>\n",
       "    </tr>\n",
       "  </tbody>\n",
       "</table><p>"
      ]
     },
     "metadata": {},
     "output_type": "display_data"
    },
    {
     "name": "stderr",
     "output_type": "stream",
     "text": [
      "/Users/Work/PycharmProjects/embeddings/.venv/lib/python3.10/site-packages/torch/utils/data/dataloader.py:683: UserWarning: 'pin_memory' argument is set as true but not supported on MPS now, then device pinned memory won't be used.\n",
      "  warnings.warn(warn_msg)\n",
      "/Users/Work/PycharmProjects/embeddings/.venv/lib/python3.10/site-packages/torch/nn/modules/module.py:1762: FutureWarning: `encoder_attention_mask` is deprecated and will be removed in version 4.55.0 for `BertSdpaSelfAttention.forward`.\n",
      "  return forward_call(*args, **kwargs)\n"
     ]
    },
    {
     "name": "stdout",
     "output_type": "stream",
     "text": [
      "Finished fine-tuning for group: 4\n",
      "Starting fine-tuning for group: 5\n"
     ]
    },
    {
     "data": {
      "text/plain": [
       "Map:   0%|          | 0/21497 [00:00<?, ? examples/s]"
      ],
      "application/vnd.jupyter.widget-view+json": {
       "version_major": 2,
       "version_minor": 0,
       "model_id": "17beefd4a9a444c2a67ecf26d7fc3dba"
      }
     },
     "metadata": {},
     "output_type": "display_data"
    },
    {
     "data": {
      "text/plain": [
       "Map:   0%|          | 0/5375 [00:00<?, ? examples/s]"
      ],
      "application/vnd.jupyter.widget-view+json": {
       "version_major": 2,
       "version_minor": 0,
       "model_id": "8926873ea98e481bb0b9cabd41baf2ea"
      }
     },
     "metadata": {},
     "output_type": "display_data"
    },
    {
     "name": "stderr",
     "output_type": "stream",
     "text": [
      "/Users/Work/PycharmProjects/embeddings/.venv/lib/python3.10/site-packages/torch/utils/data/dataloader.py:683: UserWarning: 'pin_memory' argument is set as true but not supported on MPS now, then device pinned memory won't be used.\n",
      "  warnings.warn(warn_msg)\n",
      "/Users/Work/PycharmProjects/embeddings/.venv/lib/python3.10/site-packages/torch/nn/modules/module.py:1762: FutureWarning: `encoder_attention_mask` is deprecated and will be removed in version 4.55.0 for `BertSdpaSelfAttention.forward`.\n",
      "  return forward_call(*args, **kwargs)\n"
     ]
    },
    {
     "data": {
      "text/plain": [
       "<IPython.core.display.HTML object>"
      ],
      "text/html": [
       "\n",
       "    <div>\n",
       "      \n",
       "      <progress value='10750' max='10750' style='width:300px; height:20px; vertical-align: middle;'></progress>\n",
       "      [10750/10750 54:43, Epoch 2/2]\n",
       "    </div>\n",
       "    <table border=\"1\" class=\"dataframe\">\n",
       "  <thead>\n",
       " <tr style=\"text-align: left;\">\n",
       "      <th>Step</th>\n",
       "      <th>Training Loss</th>\n",
       "    </tr>\n",
       "  </thead>\n",
       "  <tbody>\n",
       "    <tr>\n",
       "      <td>2000</td>\n",
       "      <td>2.875500</td>\n",
       "    </tr>\n",
       "    <tr>\n",
       "      <td>4000</td>\n",
       "      <td>2.567000</td>\n",
       "    </tr>\n",
       "    <tr>\n",
       "      <td>6000</td>\n",
       "      <td>2.429400</td>\n",
       "    </tr>\n",
       "    <tr>\n",
       "      <td>8000</td>\n",
       "      <td>2.208300</td>\n",
       "    </tr>\n",
       "    <tr>\n",
       "      <td>10000</td>\n",
       "      <td>2.127300</td>\n",
       "    </tr>\n",
       "  </tbody>\n",
       "</table><p>"
      ]
     },
     "metadata": {},
     "output_type": "display_data"
    },
    {
     "name": "stderr",
     "output_type": "stream",
     "text": [
      "/Users/Work/PycharmProjects/embeddings/.venv/lib/python3.10/site-packages/torch/utils/data/dataloader.py:683: UserWarning: 'pin_memory' argument is set as true but not supported on MPS now, then device pinned memory won't be used.\n",
      "  warnings.warn(warn_msg)\n",
      "/Users/Work/PycharmProjects/embeddings/.venv/lib/python3.10/site-packages/torch/nn/modules/module.py:1762: FutureWarning: `encoder_attention_mask` is deprecated and will be removed in version 4.55.0 for `BertSdpaSelfAttention.forward`.\n",
      "  return forward_call(*args, **kwargs)\n"
     ]
    },
    {
     "name": "stdout",
     "output_type": "stream",
     "text": [
      "Finished fine-tuning for group: 5\n",
      "Starting fine-tuning for group: 6\n"
     ]
    },
    {
     "data": {
      "text/plain": [
       "Map:   0%|          | 0/21497 [00:00<?, ? examples/s]"
      ],
      "application/vnd.jupyter.widget-view+json": {
       "version_major": 2,
       "version_minor": 0,
       "model_id": "66ddecc8889b4690865e6ec221a6c2f7"
      }
     },
     "metadata": {},
     "output_type": "display_data"
    },
    {
     "data": {
      "text/plain": [
       "Map:   0%|          | 0/5375 [00:00<?, ? examples/s]"
      ],
      "application/vnd.jupyter.widget-view+json": {
       "version_major": 2,
       "version_minor": 0,
       "model_id": "492a82e1b67e45128341c894f2b9ce92"
      }
     },
     "metadata": {},
     "output_type": "display_data"
    },
    {
     "name": "stderr",
     "output_type": "stream",
     "text": [
      "/Users/Work/PycharmProjects/embeddings/.venv/lib/python3.10/site-packages/torch/utils/data/dataloader.py:683: UserWarning: 'pin_memory' argument is set as true but not supported on MPS now, then device pinned memory won't be used.\n",
      "  warnings.warn(warn_msg)\n",
      "/Users/Work/PycharmProjects/embeddings/.venv/lib/python3.10/site-packages/torch/nn/modules/module.py:1762: FutureWarning: `encoder_attention_mask` is deprecated and will be removed in version 4.55.0 for `BertSdpaSelfAttention.forward`.\n",
      "  return forward_call(*args, **kwargs)\n"
     ]
    },
    {
     "data": {
      "text/plain": [
       "<IPython.core.display.HTML object>"
      ],
      "text/html": [
       "\n",
       "    <div>\n",
       "      \n",
       "      <progress value='10750' max='10750' style='width:300px; height:20px; vertical-align: middle;'></progress>\n",
       "      [10750/10750 54:20, Epoch 2/2]\n",
       "    </div>\n",
       "    <table border=\"1\" class=\"dataframe\">\n",
       "  <thead>\n",
       " <tr style=\"text-align: left;\">\n",
       "      <th>Step</th>\n",
       "      <th>Training Loss</th>\n",
       "    </tr>\n",
       "  </thead>\n",
       "  <tbody>\n",
       "    <tr>\n",
       "      <td>2000</td>\n",
       "      <td>2.584000</td>\n",
       "    </tr>\n",
       "    <tr>\n",
       "      <td>4000</td>\n",
       "      <td>2.248700</td>\n",
       "    </tr>\n",
       "    <tr>\n",
       "      <td>6000</td>\n",
       "      <td>2.049700</td>\n",
       "    </tr>\n",
       "    <tr>\n",
       "      <td>8000</td>\n",
       "      <td>1.903000</td>\n",
       "    </tr>\n",
       "    <tr>\n",
       "      <td>10000</td>\n",
       "      <td>1.818500</td>\n",
       "    </tr>\n",
       "  </tbody>\n",
       "</table><p>"
      ]
     },
     "metadata": {},
     "output_type": "display_data"
    },
    {
     "name": "stderr",
     "output_type": "stream",
     "text": [
      "/Users/Work/PycharmProjects/embeddings/.venv/lib/python3.10/site-packages/torch/utils/data/dataloader.py:683: UserWarning: 'pin_memory' argument is set as true but not supported on MPS now, then device pinned memory won't be used.\n",
      "  warnings.warn(warn_msg)\n",
      "/Users/Work/PycharmProjects/embeddings/.venv/lib/python3.10/site-packages/torch/nn/modules/module.py:1762: FutureWarning: `encoder_attention_mask` is deprecated and will be removed in version 4.55.0 for `BertSdpaSelfAttention.forward`.\n",
      "  return forward_call(*args, **kwargs)\n"
     ]
    },
    {
     "name": "stdout",
     "output_type": "stream",
     "text": [
      "Finished fine-tuning for group: 6\n",
      "Starting fine-tuning for group: adult\n"
     ]
    },
    {
     "data": {
      "text/plain": [
       "Map:   0%|          | 0/21497 [00:00<?, ? examples/s]"
      ],
      "application/vnd.jupyter.widget-view+json": {
       "version_major": 2,
       "version_minor": 0,
       "model_id": "22988a92d5c841788d30d858e6ee54e0"
      }
     },
     "metadata": {},
     "output_type": "display_data"
    },
    {
     "data": {
      "text/plain": [
       "Map:   0%|          | 0/5375 [00:00<?, ? examples/s]"
      ],
      "application/vnd.jupyter.widget-view+json": {
       "version_major": 2,
       "version_minor": 0,
       "model_id": "89a79f61be534618ac666369ae152bc4"
      }
     },
     "metadata": {},
     "output_type": "display_data"
    },
    {
     "name": "stderr",
     "output_type": "stream",
     "text": [
      "/Users/Work/PycharmProjects/embeddings/.venv/lib/python3.10/site-packages/torch/utils/data/dataloader.py:683: UserWarning: 'pin_memory' argument is set as true but not supported on MPS now, then device pinned memory won't be used.\n",
      "  warnings.warn(warn_msg)\n",
      "/Users/Work/PycharmProjects/embeddings/.venv/lib/python3.10/site-packages/torch/nn/modules/module.py:1762: FutureWarning: `encoder_attention_mask` is deprecated and will be removed in version 4.55.0 for `BertSdpaSelfAttention.forward`.\n",
      "  return forward_call(*args, **kwargs)\n"
     ]
    },
    {
     "data": {
      "text/plain": [
       "<IPython.core.display.HTML object>"
      ],
      "text/html": [
       "\n",
       "    <div>\n",
       "      \n",
       "      <progress value='10750' max='10750' style='width:300px; height:20px; vertical-align: middle;'></progress>\n",
       "      [10750/10750 53:52, Epoch 2/2]\n",
       "    </div>\n",
       "    <table border=\"1\" class=\"dataframe\">\n",
       "  <thead>\n",
       " <tr style=\"text-align: left;\">\n",
       "      <th>Step</th>\n",
       "      <th>Training Loss</th>\n",
       "    </tr>\n",
       "  </thead>\n",
       "  <tbody>\n",
       "    <tr>\n",
       "      <td>2000</td>\n",
       "      <td>2.788200</td>\n",
       "    </tr>\n",
       "    <tr>\n",
       "      <td>4000</td>\n",
       "      <td>2.544400</td>\n",
       "    </tr>\n",
       "    <tr>\n",
       "      <td>6000</td>\n",
       "      <td>2.382500</td>\n",
       "    </tr>\n",
       "    <tr>\n",
       "      <td>8000</td>\n",
       "      <td>2.188700</td>\n",
       "    </tr>\n",
       "    <tr>\n",
       "      <td>10000</td>\n",
       "      <td>2.019500</td>\n",
       "    </tr>\n",
       "  </tbody>\n",
       "</table><p>"
      ]
     },
     "metadata": {},
     "output_type": "display_data"
    },
    {
     "name": "stderr",
     "output_type": "stream",
     "text": [
      "/Users/Work/PycharmProjects/embeddings/.venv/lib/python3.10/site-packages/torch/utils/data/dataloader.py:683: UserWarning: 'pin_memory' argument is set as true but not supported on MPS now, then device pinned memory won't be used.\n",
      "  warnings.warn(warn_msg)\n",
      "/Users/Work/PycharmProjects/embeddings/.venv/lib/python3.10/site-packages/torch/nn/modules/module.py:1762: FutureWarning: `encoder_attention_mask` is deprecated and will be removed in version 4.55.0 for `BertSdpaSelfAttention.forward`.\n",
      "  return forward_call(*args, **kwargs)\n"
     ]
    },
    {
     "name": "stdout",
     "output_type": "stream",
     "text": [
      "Finished fine-tuning for group: adult\n"
     ]
    }
   ],
   "execution_count": 29
  },
  {
   "metadata": {
    "ExecuteTime": {
     "end_time": "2025-08-05T16:14:52.995600Z",
     "start_time": "2025-08-05T16:14:52.109857Z"
    }
   },
   "cell_type": "code",
   "source": [
    "from transformers import BertModel, BertTokenizerFast\n",
    "import torch\n",
    "\n",
    "\n",
    "# Path to fine-tuned model for age 2\n",
    "model_path = \"./bert-finetuned-childes-2\"\n",
    "\n",
    "# Load tokenizer and model\n",
    "tokenizer = BertTokenizerFast.from_pretrained(\"ckiplab/bert-base-chinese\")\n",
    "model = BertModel.from_pretrained(\"./bert-finetuned-childes-2\")\n",
    "model.eval()\n",
    "\n",
    "# Example sentences from test data for age 2\n",
    "examples = [s for s in test_data[2] if any(c in s for c in [\"把\", \"被\", \"給\"])][:5]\n",
    "\n",
    "for sentence in examples:\n",
    "    print(f\"\\nSentence: {sentence}\")\n",
    "    inputs = tokenizer(sentence, return_tensors=\"pt\")\n",
    "    with torch.no_grad():\n",
    "        outputs = model(**inputs)\n",
    "    last_hidden = outputs.last_hidden_state  # [1, seq_len, hidden_size]\n",
    "\n",
    "    for token, embedding in zip(tokenizer.tokenize(sentence), last_hidden[0]):\n",
    "        if token in [\"把\", \"被\", \"給\"]:\n",
    "            print(f\"Token: {token}, Embedding (first 5 dims): {embedding[:5].numpy()}\")\n"
   ],
   "id": "33e1dbd872ba820a",
   "outputs": [
    {
     "name": "stderr",
     "output_type": "stream",
     "text": [
      "Some weights of BertModel were not initialized from the model checkpoint at ./bert-finetuned-childes-2 and are newly initialized: ['pooler.dense.bias', 'pooler.dense.weight']\n",
      "You should probably TRAIN this model on a down-stream task to be able to use it for predictions and inference.\n",
      "/Users/Work/PycharmProjects/embeddings/.venv/lib/python3.10/site-packages/torch/nn/modules/module.py:1762: FutureWarning: `encoder_attention_mask` is deprecated and will be removed in version 4.55.0 for `BertSdpaSelfAttention.forward`.\n",
      "  return forward_call(*args, **kwargs)\n"
     ]
    },
    {
     "name": "stdout",
     "output_type": "stream",
     "text": [
      "\n",
      "Sentence: 媽 這 給 你 裝 糖糖\n",
      "Token: 給, Embedding (first 5 dims): [ 0.3831836   0.14854342  1.0518594   0.51030314 -0.25015423]\n",
      "\n",
      "Sentence: 給 你\n",
      "Token: 給, Embedding (first 5 dims): [ 0.47552234  1.3585104  -0.17690827  1.0646026   0.09977802]\n",
      "\n",
      "Sentence: 我 今天 要 給 大家\n",
      "Token: 給, Embedding (first 5 dims): [ 0.5919233  -0.00127056 -0.7923497   0.68201035 -0.04552491]\n",
      "\n",
      "Sentence: 我 也 要 給 小 牛 洗澡\n",
      "Token: 給, Embedding (first 5 dims): [ 0.7196787  -0.04465713 -0.7582121   0.5101793  -0.14212166]\n",
      "\n",
      "Sentence: 那 你 把 這 個 橫 寫 完\n",
      "Token: 把, Embedding (first 5 dims): [ 1.0561988  -0.02080734 -0.95447844  0.59562993  0.59436715]\n"
     ]
    }
   ],
   "execution_count": 24
  },
  {
   "metadata": {
    "ExecuteTime": {
     "end_time": "2025-08-05T16:17:11.131722Z",
     "start_time": "2025-08-05T16:17:04.057714Z"
    }
   },
   "cell_type": "code",
   "source": [
    "import numpy as np\n",
    "from transformers import BertModel, BertTokenizerFast\n",
    "import torch\n",
    "import os\n",
    "\n",
    "model_path = \"./bert-finetuned-childes-2\"\n",
    "target_chars = [\"把\", \"被\", \"給\"]\n",
    "\n",
    "# Load tokenizer and model\n",
    "tokenizer = BertTokenizerFast.from_pretrained(\"ckiplab/bert-base-chinese\")\n",
    "model = BertModel.from_pretrained(model_path)\n",
    "model.eval()\n",
    "\n",
    "embeddings_dict = {char: [] for char in target_chars}\n",
    "\n",
    "for sentence in test_data[2]:\n",
    "    if any(char in sentence for char in target_chars):\n",
    "        inputs = tokenizer(sentence, return_tensors=\"pt\", truncation=True, max_length=128)\n",
    "        with torch.no_grad():\n",
    "            outputs = model(**inputs)\n",
    "        last_hidden = outputs.last_hidden_state[0]  # [seq_len, hidden_size]\n",
    "\n",
    "        tokens = tokenizer.tokenize(sentence)\n",
    "        for idx, token in enumerate(tokens):\n",
    "            if token in target_chars:\n",
    "                emb = last_hidden[idx].cpu().numpy()\n",
    "                embeddings_dict[token].append({\n",
    "                    \"sentence\": sentence,\n",
    "                    \"token_index\": idx,\n",
    "                    \"embedding\": emb\n",
    "                })\n",
    "\n",
    "# Save embeddings as npz file (change path if needed)\n",
    "os.makedirs(\"embeddings_age2\", exist_ok=True)\n",
    "for char, entries in embeddings_dict.items():\n",
    "    # Save embeddings and sentences separately\n",
    "    embs = np.array([e[\"embedding\"] for e in entries])\n",
    "    sentences = [e[\"sentence\"] for e in entries]\n",
    "    np.savez_compressed(f\"embeddings_age2/{char}_embeddings.npz\", embeddings=embs, sentences=sentences)\n"
   ],
   "id": "8060be29bc15231f",
   "outputs": [
    {
     "name": "stderr",
     "output_type": "stream",
     "text": [
      "Some weights of BertModel were not initialized from the model checkpoint at ./bert-finetuned-childes-2 and are newly initialized: ['pooler.dense.bias', 'pooler.dense.weight']\n",
      "You should probably TRAIN this model on a down-stream task to be able to use it for predictions and inference.\n"
     ]
    }
   ],
   "execution_count": 25
  },
  {
   "metadata": {
    "ExecuteTime": {
     "end_time": "2025-08-05T16:18:56.320578Z",
     "start_time": "2025-08-05T16:18:56.005729Z"
    }
   },
   "cell_type": "code",
   "source": [
    "import numpy as np\n",
    "import matplotlib.pyplot as plt\n",
    "from sklearn.decomposition import PCA\n",
    "from matplotlib import font_manager\n",
    "\n",
    "# Font for Chinese\n",
    "font_path = \"/System/Library/Fonts/STHeiti Medium.ttc\"  # adjust for your OS\n",
    "font_prop = font_manager.FontProperties(fname=font_path)\n",
    "plt.rcParams[\"font.family\"] = font_prop.get_name()\n",
    "\n",
    "chars = [\"把\", \"被\", \"給\"]\n",
    "colors = {\"把\": \"red\", \"被\": \"blue\", \"給\": \"green\"}\n",
    "\n",
    "plt.figure(figsize=(8, 6))\n",
    "\n",
    "for char in chars:\n",
    "    data = np.load(f\"embeddings_age2/{char}_embeddings.npz\", allow_pickle=True)\n",
    "    embs = data[\"embeddings\"]\n",
    "\n",
    "    pca = PCA(n_components=2)\n",
    "    reduced = pca.fit_transform(embs)\n",
    "\n",
    "    plt.scatter(reduced[:, 0], reduced[:, 1], label=char, alpha=0.6, color=colors[char])\n",
    "\n",
    "plt.title(\"PCA of contextual embeddings for 把, 被, 給 (age 2 test set)\")\n",
    "plt.legend(prop=font_prop)\n",
    "plt.xlabel(\"PC1\")\n",
    "plt.ylabel(\"PC2\")\n",
    "plt.grid(True)\n",
    "plt.show()\n"
   ],
   "id": "5b968a50254deae1",
   "outputs": [
    {
     "data": {
      "text/plain": [
       "<Figure size 800x600 with 1 Axes>"
      ],
      "image/png": "[encoded data removed]"
     },
     "metadata": {},
     "output_type": "display_data"
    }
   ],
   "execution_count": 27
  },
  {
   "metadata": {
    "ExecuteTime": {
     "end_time": "2025-08-07T05:32:27.211251Z",
     "start_time": "2025-08-07T05:32:27.206593Z"
    }
   },
   "cell_type": "code",
   "outputs": [],
   "execution_count": 6,
   "source": [
    "import numpy as np\n",
    "from transformers import BertModel, BertTokenizerFast\n",
    "import torch\n",
    "import os\n",
    "\n",
    "def extract_embeddings_for_age(sentences, age):\n",
    "    target_chars = [\"把\", \"被\", \"給\"]\n",
    "    model_path = f\"./bert-finetuned-childes-{age}\"\n",
    "\n",
    "    # Load tokenizer and model\n",
    "    tokenizer = BertTokenizerFast.from_pretrained(\"ckiplab/bert-base-chinese\")\n",
    "    model = BertModel.from_pretrained(model_path)\n",
    "    model.eval()\n",
    "\n",
    "    embeddings_dict = {char: [] for char in target_chars}\n",
    "\n",
    "    for sentence in sentences:\n",
    "        if any(char in sentence for char in target_chars):\n",
    "            inputs = tokenizer(sentence, return_tensors=\"pt\", truncation=True, max_length=128)\n",
    "            with torch.no_grad():\n",
    "                outputs = model(**inputs)\n",
    "            last_hidden = outputs.last_hidden_state[0]  # [seq_len, hidden_size]\n",
    "\n",
    "            tokens = tokenizer.tokenize(sentence)\n",
    "            for idx, token in enumerate(tokens):\n",
    "                if token in target_chars:\n",
    "                    emb = last_hidden[idx].cpu().numpy()\n",
    "                    embeddings_dict[token].append({\n",
    "                        \"sentence\": sentence,\n",
    "                        \"token_index\": idx,\n",
    "                        \"embedding\": emb\n",
    "                    })\n",
    "\n",
    "    # Save embeddings\n",
    "    save_dir = f\"embeddings_age{age}\"\n",
    "    os.makedirs(save_dir, exist_ok=True)\n",
    "    for char, entries in embeddings_dict.items():\n",
    "        embs = np.array([e[\"embedding\"] for e in entries])\n",
    "        sentences = [e[\"sentence\"] for e in entries]\n",
    "        np.savez_compressed(f\"{save_dir}/{char}_embeddings.npz\", embeddings=embs, sentences=sentences)\n"
   ],
   "id": "60ebaa4a9f9d2585"
  },
  {
   "cell_type": "code",
   "outputs": [
    {
     "name": "stderr",
     "output_type": "stream",
     "text": [
      "Some weights of BertModel were not initialized from the model checkpoint at ./bert-finetuned-childes-2 and are newly initialized: ['pooler.dense.bias', 'pooler.dense.weight']\n",
      "You should probably TRAIN this model on a down-stream task to be able to use it for predictions and inference.\n",
      "/Users/Work/PycharmProjects/embeddings/.venv/lib/python3.10/site-packages/torch/nn/modules/module.py:1762: FutureWarning: `encoder_attention_mask` is deprecated and will be removed in version 4.55.0 for `BertSdpaSelfAttention.forward`.\n",
      "  return forward_call(*args, **kwargs)\n",
      "Some weights of BertModel were not initialized from the model checkpoint at ./bert-finetuned-childes-3 and are newly initialized: ['pooler.dense.bias', 'pooler.dense.weight']\n",
      "You should probably TRAIN this model on a down-stream task to be able to use it for predictions and inference.\n",
      "Some weights of BertModel were not initialized from the model checkpoint at ./bert-finetuned-childes-4 and are newly initialized: ['pooler.dense.bias', 'pooler.dense.weight']\n",
      "You should probably TRAIN this model on a down-stream task to be able to use it for predictions and inference.\n",
      "Some weights of BertModel were not initialized from the model checkpoint at ./bert-finetuned-childes-5 and are newly initialized: ['pooler.dense.bias', 'pooler.dense.weight']\n",
      "You should probably TRAIN this model on a down-stream task to be able to use it for predictions and inference.\n",
      "Some weights of BertModel were not initialized from the model checkpoint at ./bert-finetuned-childes-6 and are newly initialized: ['pooler.dense.bias', 'pooler.dense.weight']\n",
      "You should probably TRAIN this model on a down-stream task to be able to use it for predictions and inference.\n",
      "Some weights of BertModel were not initialized from the model checkpoint at ./bert-finetuned-childes-adult and are newly initialized: ['pooler.dense.bias', 'pooler.dense.weight']\n",
      "You should probably TRAIN this model on a down-stream task to be able to use it for predictions and inference.\n"
     ]
    }
   ],
   "source": [
    "extract_embeddings_for_age(test_data_loaded['2'], 2)\n",
    "extract_embeddings_for_age(test_data_loaded['3'], 3)\n",
    "extract_embeddings_for_age(test_data_loaded['4'], 4)\n",
    "extract_embeddings_for_age(test_data_loaded['5'], 5)\n",
    "extract_embeddings_for_age(test_data_loaded['6'], 6)\n",
    "extract_embeddings_for_age(test_data_loaded['adult'], \"adult\")\n"
   ],
   "metadata": {
    "collapsed": false,
    "ExecuteTime": {
     "end_time": "2025-08-07T05:38:53.386123Z",
     "start_time": "2025-08-07T05:37:40.745565Z"
    }
   },
   "id": "221c630912133970",
   "execution_count": 14
  },
  {
   "cell_type": "code",
   "outputs": [
    {
     "data": {
      "text/plain": "dict_keys(['2', '3', '4', '5', '6', 'adult'])"
     },
     "execution_count": 12,
     "metadata": {},
     "output_type": "execute_result"
    }
   ],
   "source": [
    "test_data_loaded.keys()"
   ],
   "metadata": {
    "collapsed": false,
    "ExecuteTime": {
     "end_time": "2025-08-07T05:36:12.486703Z",
     "start_time": "2025-08-07T05:36:12.483284Z"
    }
   },
   "id": "172c30f2a5b1533e",
   "execution_count": 12
  },
  {
   "cell_type": "code",
   "outputs": [
    {
     "name": "stdout",
     "output_type": "stream",
     "text": [
      "(8, 768)\n"
     ]
    }
   ],
   "source": [
    "data = np.load(f\"embeddings_age2/被_embeddings.npz\", allow_pickle=True)\n",
    "print(data[\"embeddings\"].shape)\n"
   ],
   "metadata": {
    "collapsed": false,
    "ExecuteTime": {
     "end_time": "2025-08-07T05:45:16.332099Z",
     "start_time": "2025-08-07T05:45:16.329Z"
    }
   },
   "id": "f2d9f46c8040fab0",
   "execution_count": 18
  },
  {
   "cell_type": "code",
   "outputs": [],
   "source": [],
   "metadata": {
    "collapsed": false
   },
   "id": "e135a9474d24d7cc"
  }
 ],
 "metadata": {
  "kernelspec": {
   "display_name": "Python 3",
   "language": "python",
   "name": "python3"
  },
  "language_info": {
   "codemirror_mode": {
    "name": "ipython",
    "version": 2
   },
   "file_extension": ".py",
   "mimetype": "text/x-python",
   "name": "python",
   "nbconvert_exporter": "python",
   "pygments_lexer": "ipython2",
   "version": "2.7.6"
  }
 },
 "nbformat": 4,
 "nbformat_minor": 5
}
